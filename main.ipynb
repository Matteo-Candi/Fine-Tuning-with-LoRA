{
  "cells": [
    {
      "cell_type": "markdown",
      "metadata": {
        "id": "view-in-github",
        "colab_type": "text"
      },
      "source": [
        "<a href=\"https://colab.research.google.com/github/Matteo-Candi/Fine-Tuning-with-LoRA/blob/main/main.ipynb\" target=\"_parent\"><img src=\"https://colab.research.google.com/assets/colab-badge.svg\" alt=\"Open In Colab\"/></a>"
      ]
    },
    {
      "cell_type": "markdown",
      "metadata": {
        "id": "NiO3kDvPiOjL"
      },
      "source": [
        "# Libraries"
      ]
    },
    {
      "cell_type": "code",
      "execution_count": 2,
      "metadata": {
        "id": "fDJc2ZzR7PV2"
      },
      "outputs": [],
      "source": [
        "!pip install -q datasets"
      ]
    },
    {
      "cell_type": "code",
      "execution_count": null,
      "metadata": {
        "id": "Nlxrr9nB7ZkF"
      },
      "outputs": [],
      "source": [
        "from transformers import set_seed, BertTokenizer, TFBertModel, TFBertForSequenceClassification, TFBertMainLayer\n",
        "from datasets import load_dataset, concatenate_datasets\n",
        "import tensorflow as tf\n",
        "\n",
        "from collections import Counter\n",
        "import matplotlib.pyplot as plt\n",
        "import pandas as pd\n",
        "import numpy as np\n",
        "import itertools\n",
        "import math"
      ]
    },
    {
      "cell_type": "code",
      "execution_count": null,
      "metadata": {
        "id": "3uklyioe8gCB"
      },
      "outputs": [],
      "source": [
        "# To ensure reproducible results (as much as possible)\n",
        "tf.keras.utils.set_random_seed(1234)"
      ]
    },
    {
      "cell_type": "markdown",
      "metadata": {
        "id": "5GeP3g_39qff"
      },
      "source": [
        "# Dataset and Preprocessing"
      ]
    },
    {
      "cell_type": "code",
      "execution_count": null,
      "metadata": {
        "id": "xJ1Ohapq4bGY"
      },
      "outputs": [],
      "source": [
        "dataset = load_dataset(\"go_emotions\", \"simplified\").shuffle(seed=17)\n",
        "labels = dataset['train'].features['labels'].feature.names\n",
        "dataset = dataset.remove_columns('id')\n",
        "\n",
        "\n",
        "def filter_labels(example):\n",
        "    return len(example['labels']) < 2\n",
        "\n",
        "for split in dataset.keys():\n",
        "    dataset[split] = dataset[split].filter(filter_labels)\n",
        "\n",
        "model_name = \"bert-base-cased\"\n",
        "num_labels = 28\n",
        "\n",
        "tokenizer = BertTokenizer.from_pretrained(model_name)"
      ]
    },
    {
      "cell_type": "code",
      "execution_count": null,
      "metadata": {
        "id": "bGU6UiKZ-1ns"
      },
      "outputs": [],
      "source": [
        "def get_df_summary(df):\n",
        "    label_column = df['labels'].to_list()\n",
        "    flatten_col = list(itertools.chain(*label_column))\n",
        "    freq_dict = dict(Counter(flatten_col))\n",
        "    freq_list = list(dict(sorted(freq_dict.items())).values())\n",
        "    rel_freq_list = [el / sum(freq_list) * 100 for el in freq_list]\n",
        "\n",
        "    return rel_freq_list"
      ]
    },
    {
      "cell_type": "code",
      "execution_count": null,
      "metadata": {
        "id": "a_RZkkj-9B9k"
      },
      "outputs": [],
      "source": [
        "df_train = dataset['train'].to_pandas()\n",
        "df_val = dataset['validation'].to_pandas()\n",
        "df_test = dataset['test'].to_pandas()\n",
        "\n",
        "# Get dataframes info.\n",
        "train_freq = get_df_summary(df_train)\n",
        "val_freq = get_df_summary(df_val)\n",
        "test_freq = get_df_summary(df_test)"
      ]
    },
    {
      "cell_type": "code",
      "execution_count": null,
      "metadata": {
        "id": "0ihLCE6P6ts-"
      },
      "outputs": [],
      "source": [
        "fig, ax = plt.subplots(figsize=(15, 6))\n",
        "bar_width = 0.25\n",
        "index = np.arange(len(train_freq))\n",
        "bars_train = ax.barh(index, train_freq, bar_width, label='Train')\n",
        "bars_val = ax.barh(index + bar_width, val_freq, bar_width, label='Validation')\n",
        "bars_test = ax.barh(index + 2*bar_width, test_freq, bar_width, label='Test')\n",
        "plt.xlabel('%')\n",
        "plt.title('Percentage of Feelings')\n",
        "plt.yticks(index + bar_width, labels)\n",
        "plt.legend()\n",
        "plt.tight_layout()\n",
        "plt.show()"
      ]
    },
    {
      "cell_type": "code",
      "execution_count": null,
      "metadata": {
        "id": "_hyPxnsy3jP5"
      },
      "outputs": [],
      "source": [
        "def tokenizer_func(text):\n",
        "    '''\n",
        "    Tokenizing the text using the BERT tokenizer.\n",
        "    '''\n",
        "    # Checking there is just one tokenization up to 316 and the second longest one is 120.\n",
        "    # token_lengths = [sum(tokenized_train[i][0] != 0) for i in range(len(tokenized_train))]\n",
        "    return tokenizer(text, padding = 'max_length', max_length = 120, return_tensors = \"tf\", truncation=True)\n",
        "\n",
        "def one_hot_func(indices):\n",
        "    '''\n",
        "    Converting a value in one hot encode vector.\n",
        "    '''\n",
        "    one_hot_encoding = np.zeros(28, dtype=int)\n",
        "    one_hot_encoding[indices] = 1\n",
        "    return {'labels': one_hot_encoding}\n",
        "\n",
        "def process_dataset_func(dataset):\n",
        "    '''\n",
        "    Processing the dataset to make it readable from the model.\n",
        "    '''\n",
        "    processed_dataset = dataset.map(lambda x: tokenizer_func(x['text']))\n",
        "    processed_dataset = processed_dataset.map(lambda x: one_hot_func(x['labels']))\n",
        "    processed_dataset = processed_dataset.remove_columns('text')\n",
        "    return processed_dataset"
      ]
    },
    {
      "cell_type": "code",
      "execution_count": null,
      "metadata": {
        "id": "w5PxvE7A2M1j"
      },
      "outputs": [],
      "source": [
        "dataset = process_dataset_func(dataset)"
      ]
    },
    {
      "cell_type": "code",
      "execution_count": null,
      "metadata": {
        "id": "i7dtM6KA-X6h"
      },
      "outputs": [],
      "source": [
        "batch_size = 32\n",
        "tf_dataset_train = tf.data.Dataset.from_tensor_slices((dataset['train']['input_ids'], dataset['train']['labels'])).batch(batch_size)\n",
        "tf_dataset_validation = tf.data.Dataset.from_tensor_slices((dataset['validation']['input_ids'], dataset['validation']['labels'])).batch(batch_size)\n",
        "tf_dataset_test = tf.data.Dataset.from_tensor_slices((dataset['test']['input_ids'], dataset['test']['labels'])).batch(batch_size)\n",
        "\n",
        "# Reshape labels to match the model output.\n",
        "tf_dataset_train = tf_dataset_train.map(lambda input_ids, labels: (tf.squeeze(input_ids, axis=1), labels))\n",
        "tf_dataset_validation = tf_dataset_validation.map(lambda input_ids, labels: (tf.squeeze(input_ids, axis=1), labels))\n",
        "tf_dataset_test = tf_dataset_test.map(lambda input_ids, labels: (tf.squeeze(input_ids, axis=1), labels))"
      ]
    },
    {
      "cell_type": "markdown",
      "metadata": {
        "id": "sLMlpFElAk9x"
      },
      "source": [
        "# Models"
      ]
    },
    {
      "cell_type": "markdown",
      "metadata": {
        "id": "GRePUVqATjag"
      },
      "source": [
        "## Base model"
      ]
    },
    {
      "cell_type": "code",
      "execution_count": null,
      "metadata": {
        "colab": {
          "base_uri": "https://localhost:8080/"
        },
        "id": "Xvx24Qi1Aqws",
        "outputId": "05aba272-5ba6-4132-f93b-3cc5a08c8708"
      },
      "outputs": [
        {
          "name": "stderr",
          "output_type": "stream",
          "text": [
            "All PyTorch model weights were used when initializing TFBertForSequenceClassification.\n",
            "\n",
            "Some weights or buffers of the TF 2.0 model TFBertForSequenceClassification were not initialized from the PyTorch model and are newly initialized: ['classifier.weight', 'classifier.bias']\n",
            "You should probably TRAIN this model on a down-stream task to be able to use it for predictions and inference.\n"
          ]
        },
        {
          "name": "stdout",
          "output_type": "stream",
          "text": [
            "Model: \"tf_bert_for_sequence_classification_5\"\n",
            "_________________________________________________________________\n",
            " Layer (type)                Output Shape              Param #   \n",
            "=================================================================\n",
            " bert (TFBertMainLayer)      multiple                  108310272 \n",
            "                                                                 \n",
            " dropout_242 (Dropout)       multiple                  0 (unused)\n",
            "                                                                 \n",
            " classifier (Dense)          multiple                  21532     \n",
            "                                                                 \n",
            "=================================================================\n",
            "Total params: 108331804 (413.25 MB)\n",
            "Trainable params: 108331804 (413.25 MB)\n",
            "Non-trainable params: 0 (0.00 Byte)\n",
            "_________________________________________________________________\n"
          ]
        }
      ],
      "source": [
        "pretrained_model = TFBertForSequenceClassification.from_pretrained(model_name, num_labels = num_labels)\n",
        "pretrained_model.summary()"
      ]
    },
    {
      "cell_type": "code",
      "execution_count": null,
      "metadata": {
        "id": "W1LjNjkG0q6I"
      },
      "outputs": [],
      "source": [
        "class BaseModel(tf.keras.Model):\n",
        "    def __init__(self, model_name, num_labels):\n",
        "        super(BaseModel, self).__init__()\n",
        "        self.num_labels = num_labels\n",
        "\n",
        "        # When importing the model some weigths have different initialization states.\n",
        "        set_seed(17)\n",
        "        self.model = TFBertForSequenceClassification.from_pretrained(model_name, num_labels = self.num_labels)\n",
        "        self.softmax = tf.keras.layers.Activation('softmax')\n",
        "\n",
        "\n",
        "    def call(self, input):\n",
        "\n",
        "        # The model detect automatically 'input_ids' and 'attention_mask'.\n",
        "        logits = self.model(input)[0]\n",
        "        model_output = self.softmax(logits)\n",
        "\n",
        "\n",
        "        return model_output"
      ]
    },
    {
      "cell_type": "code",
      "source": [
        "stop"
      ],
      "metadata": {
        "id": "IXZ-yMeAAjKr"
      },
      "execution_count": null,
      "outputs": []
    },
    {
      "cell_type": "code",
      "execution_count": null,
      "metadata": {
        "colab": {
          "base_uri": "https://localhost:8080/"
        },
        "id": "ij7yXURwMd-3",
        "outputId": "be342d8e-a0ff-4810-fea3-1ae05b894b22"
      },
      "outputs": [
        {
          "output_type": "stream",
          "name": "stderr",
          "text": [
            "All PyTorch model weights were used when initializing TFBertForSequenceClassification.\n",
            "\n",
            "Some weights or buffers of the TF 2.0 model TFBertForSequenceClassification were not initialized from the PyTorch model and are newly initialized: ['classifier.weight', 'classifier.bias']\n",
            "You should probably TRAIN this model on a down-stream task to be able to use it for predictions and inference.\n"
          ]
        },
        {
          "output_type": "stream",
          "name": "stdout",
          "text": [
            "Epoch 1/5\n",
            "1135/1135 [==============================] - 978s 806ms/step - loss: 1.6934 - accuracy: 0.5419 - val_loss: 1.3562 - val_accuracy: 0.6102\n",
            "Epoch 2/5\n",
            "1135/1135 [==============================] - 913s 804ms/step - loss: 1.0871 - accuracy: 0.6727 - val_loss: 1.3531 - val_accuracy: 0.6025\n",
            "Epoch 3/5\n",
            "1135/1135 [==============================] - 914s 805ms/step - loss: 0.6283 - accuracy: 0.8094 - val_loss: 1.6252 - val_accuracy: 0.5772\n",
            "Epoch 4/5\n",
            "1135/1135 [==============================] - 895s 789ms/step - loss: 0.3395 - accuracy: 0.8971 - val_loss: 1.8789 - val_accuracy: 0.5851\n",
            "Epoch 5/5\n",
            "1135/1135 [==============================] - 892s 786ms/step - loss: 0.1989 - accuracy: 0.9394 - val_loss: 2.1411 - val_accuracy: 0.5772\n"
          ]
        }
      ],
      "source": [
        "base_model = BaseModel(model_name, num_labels)\n",
        "\n",
        "optimizer = tf.keras.optimizers.Adam(learning_rate=5e-5)\n",
        "loss_function = tf.keras.losses.CategoricalCrossentropy()\n",
        "metrics = ['accuracy']\n",
        "\n",
        "base_model.compile(optimizer=optimizer,\n",
        "              loss=loss_function,\n",
        "              metrics=metrics)\n",
        "\n",
        "num_epochs = 5\n",
        "\n",
        "base_model_history = base_model.fit(tf_dataset_train, validation_data=tf_dataset_validation, epochs=num_epochs, batch_size=batch_size)"
      ]
    },
    {
      "cell_type": "code",
      "execution_count": null,
      "metadata": {
        "colab": {
          "base_uri": "https://localhost:8080/"
        },
        "outputId": "5f5452f2-0105-4bb4-fbe5-546c021d2068",
        "id": "bj7pKNTlBSTf"
      },
      "outputs": [
        {
          "output_type": "execute_result",
          "data": {
            "text/plain": [
              "{'loss': [1.6934291124343872,\n",
              "  1.0871013402938843,\n",
              "  0.6282956004142761,\n",
              "  0.3395499289035797,\n",
              "  0.19886009395122528],\n",
              " 'accuracy': [0.5418640375137329,\n",
              "  0.6727442741394043,\n",
              "  0.809380829334259,\n",
              "  0.8971301317214966,\n",
              "  0.939434826374054],\n",
              " 'val_loss': [1.3562015295028687,\n",
              "  1.3530546426773071,\n",
              "  1.6251964569091797,\n",
              "  1.878911018371582,\n",
              "  2.1410646438598633],\n",
              " 'val_accuracy': [0.6101583242416382,\n",
              "  0.602462649345398,\n",
              "  0.5771768093109131,\n",
              "  0.5850923657417297,\n",
              "  0.5771768093109131]}"
            ]
          },
          "metadata": {},
          "execution_count": 15
        }
      ],
      "source": [
        "base_model_history.history\n",
        "\n",
        "# {'loss': [1.6934291124343872,\n",
        "#   1.0871013402938843,\n",
        "#   0.6282956004142761,\n",
        "#   0.3395499289035797,\n",
        "#   0.19886009395122528],\n",
        "#  'accuracy': [0.5418640375137329,\n",
        "#   0.6727442741394043,\n",
        "#   0.809380829334259,\n",
        "#   0.8971301317214966,\n",
        "#   0.939434826374054],\n",
        "#  'val_loss': [1.3562015295028687,\n",
        "#   1.3530546426773071,\n",
        "#   1.6251964569091797,\n",
        "#   1.878911018371582,\n",
        "#   2.1410646438598633],\n",
        "#  'val_accuracy': [0.6101583242416382,\n",
        "#   0.602462649345398,\n",
        "#   0.5771768093109131,\n",
        "#   0.5850923657417297,\n",
        "#   0.5771768093109131]}"
      ]
    },
    {
      "cell_type": "code",
      "source": [
        "data ={'loss': [1.6934291124343872,\n",
        "  1.0871013402938843,\n",
        "  0.6282956004142761,\n",
        "  0.3395499289035797,\n",
        "  0.19886009395122528],\n",
        " 'accuracy': [0.5418640375137329,\n",
        "  0.6727442741394043,\n",
        "  0.809380829334259,\n",
        "  0.8971301317214966,\n",
        "  0.939434826374054],\n",
        " 'val_loss': [1.3562015295028687,\n",
        "  1.3530546426773071,\n",
        "  1.6251964569091797,\n",
        "  1.878911018371582,\n",
        "  2.1410646438598633],\n",
        " 'val_accuracy': [0.6101583242416382,\n",
        "  0.602462649345398,\n",
        "  0.5771768093109131,\n",
        "  0.5850923657417297,\n",
        "  0.5771768093109131]}"
      ],
      "metadata": {
        "id": "nsQrkpjVIAp3"
      },
      "execution_count": null,
      "outputs": []
    },
    {
      "cell_type": "code",
      "source": [
        "plt.plot(data['accuracy'])"
      ],
      "metadata": {
        "colab": {
          "base_uri": "https://localhost:8080/",
          "height": 448
        },
        "id": "U9I_wXpcH-mt",
        "outputId": "4a161742-c5ce-4616-9680-9b8e57e468d6"
      },
      "execution_count": null,
      "outputs": [
        {
          "output_type": "execute_result",
          "data": {
            "text/plain": [
              "[<matplotlib.lines.Line2D at 0x7e6f2d486050>]"
            ]
          },
          "metadata": {},
          "execution_count": 248
        },
        {
          "output_type": "display_data",
          "data": {
            "text/plain": [
              "<Figure size 640x480 with 1 Axes>"
            ],
            "image/png": "[encoded data removed]"
          },
          "metadata": {}
        }
      ]
    },
    {
      "cell_type": "code",
      "source": [
        "output = base_model.evaluate(tf_dataset_test)\n",
        "accuracy_on_test_set = output[1]\n",
        "round(accuracy_on_test_set, 4)"
      ],
      "metadata": {
        "colab": {
          "base_uri": "https://localhost:8080/"
        },
        "outputId": "e68a299e-9750-48b6-8169-c317cf6ed979",
        "id": "L-z4keWACmiN"
      },
      "execution_count": null,
      "outputs": [
        {
          "output_type": "execute_result",
          "data": {
            "text/plain": [
              "0.5863"
            ]
          },
          "metadata": {},
          "execution_count": 23
        }
      ]
    },
    {
      "cell_type": "markdown",
      "metadata": {
        "id": "P4kO71wNTo79"
      },
      "source": [
        "## Model fine-tuned with LoRA"
      ]
    },
    {
      "cell_type": "code",
      "source": [
        "class LoraLayer(tf.keras.layers.Layer):\n",
        "    def __init__(\n",
        "        self,\n",
        "        original_layer,\n",
        "        rank=8,\n",
        "        alpha=32,\n",
        "        **kwargs):\n",
        "\n",
        "        super().__init__(**kwargs)\n",
        "        original_layer_config = original_layer.get_config()\n",
        "        name = original_layer_config[\"name\"]\n",
        "\n",
        "        self.rank = rank\n",
        "        self.alpha = alpha\n",
        "\n",
        "        self._scale = alpha / rank\n",
        "\n",
        "        self._hidden_dim = original_layer_config['units']\n",
        "\n",
        "        self.original_layer = tf.keras.layers.Dense(self._hidden_dim, name=f'lora_{name}')\n",
        "        self.original_layer.build(self._hidden_dim)\n",
        "        self.original_layer.set_weights(original_layer.get_weights())\n",
        "\n",
        "\n",
        "        # LoRA dense layers.\n",
        "        self.A = tf.keras.layers.Dense(\n",
        "            units=rank,\n",
        "            use_bias=False,\n",
        "            # Note: the original paper mentions that normal distribution was\n",
        "            # used for initialization. However, the official LoRA implementation\n",
        "            # uses \"Kaiming/He Initialization\".\n",
        "            kernel_initializer=tf.keras.initializers.VarianceScaling(\n",
        "                scale=math.sqrt(5), mode=\"fan_in\", distribution=\"uniform\", seed=17\n",
        "            ),\n",
        "            name=\"lora_A\",\n",
        "        )\n",
        "\n",
        "        self.B = tf.keras.layers.EinsumDense(\n",
        "            equation='abc,cd->abd',\n",
        "            output_shape=(120, 768),\n",
        "            kernel_initializer=\"zeros\",\n",
        "            name=\"lora_B\",\n",
        "        )\n",
        "\n",
        "\n",
        "    def call(self, inputs):\n",
        "        original_output = self.original_layer(inputs)\n",
        "            # If we are fine-tuning the model, we will add LoRA layers' output\n",
        "            # to the original layer's output.\n",
        "        A_output = self.A(inputs)\n",
        "        B_output = self.B(A_output)\n",
        "        lora_output = B_output * self._scale\n",
        "\n",
        "        return lora_output + original_output\n",
        "\n",
        "\n",
        "\n",
        "class LoraModel(tf.keras.Model):\n",
        "    def __init__(self, model_name, num_labels, rank, alpha, model):\n",
        "        super(LoraModel, self).__init__()\n",
        "\n",
        "        # When importing the model some weigths have different initialization states.\n",
        "        # self.model = model\n",
        "        set_seed(17)\n",
        "        self.model = model\n",
        "        # for layer in self.model.bert._flatten_layers():\n",
        "        #     layer.trainable = False\n",
        "\n",
        "        # self.add_lora_layers_to_bert(rank, alpha)\n",
        "        # self.model.bert.trainable = False\n",
        "\n",
        "        self.softmax = tf.keras.layers.Activation('softmax')\n",
        "\n",
        "\n",
        "    def add_lora_layers_to_bert(self, rank=8, alpha=32):\n",
        "\n",
        "        for i in range(12):\n",
        "\n",
        "            self.model.bert.encoder.layer[i].attention.self_attention.query = LoraLayer(\n",
        "                self.model.bert.encoder.layer[i].attention.self_attention.query,\n",
        "                rank=rank,\n",
        "                alpha=alpha)\n",
        "\n",
        "            self.model.bert.encoder.layer[i].attention.self_attention.key = LoraLayer(\n",
        "                self.model.bert.encoder.layer[i].attention.self_attention.key,\n",
        "                rank=rank,\n",
        "                alpha=alpha)\n",
        "\n",
        "            self.model.bert.encoder.layer[i].attention.self_attention.value = LoraLayer(\n",
        "                    self.model.bert.encoder.layer[i].attention.self_attention.value,\n",
        "                    rank=rank,\n",
        "                    alpha=alpha)\n",
        "\n",
        "\n",
        "\n",
        "    def call(self, input):\n",
        "\n",
        "        # The model detect automatically 'input_ids' and 'attention_mask'.\n",
        "        logits = self.model(input)[0]\n",
        "        model_output = self.softmax(logits)\n",
        "\n",
        "        return model_output"
      ],
      "metadata": {
        "id": "aRySG4gpqP_M"
      },
      "execution_count": null,
      "outputs": []
    },
    {
      "cell_type": "code",
      "source": [
        "def add_lora_layers_to_bert(rank=8, alpha=32):\n",
        "    for i in range(12):\n",
        "\n",
        "        model.bert.encoder.layer[i].attention.self_attention.query = LoraLayer(\n",
        "            model.bert.encoder.layer[i].attention.self_attention.query,\n",
        "            rank=rank,\n",
        "            alpha=alpha)\n",
        "\n",
        "        model.bert.encoder.layer[i].attention.self_attention.key = LoraLayer(\n",
        "            model.bert.encoder.layer[i].attention.self_attention.key,\n",
        "            rank=rank,\n",
        "            alpha=alpha)\n",
        "\n",
        "        model.bert.encoder.layer[i].attention.self_attention.value = LoraLayer(\n",
        "                model.bert.encoder.layer[i].attention.self_attention.value,\n",
        "                rank=rank,\n",
        "                alpha=alpha)"
      ],
      "metadata": {
        "id": "LKLzgSh-W-d8"
      },
      "execution_count": null,
      "outputs": []
    },
    {
      "cell_type": "code",
      "source": [
        "model = TFBertForSequenceClassification.from_pretrained('bert-base-cased', num_labels = 28)\n",
        "add_lora_layers_to_bert(8, 16)"
      ],
      "metadata": {
        "colab": {
          "base_uri": "https://localhost:8080/"
        },
        "id": "IXL9pwYOW22v",
        "outputId": "d03f6333-b862-4d90-96d4-4f761a0923f8"
      },
      "execution_count": null,
      "outputs": [
        {
          "output_type": "stream",
          "name": "stderr",
          "text": [
            "All PyTorch model weights were used when initializing TFBertForSequenceClassification.\n",
            "\n",
            "Some weights or buffers of the TF 2.0 model TFBertForSequenceClassification were not initialized from the PyTorch model and are newly initialized: ['classifier.weight', 'classifier.bias']\n",
            "You should probably TRAIN this model on a down-stream task to be able to use it for predictions and inference.\n"
          ]
        }
      ]
    },
    {
      "cell_type": "code",
      "source": [
        "for layer in list(model._flatten_modules()):\n",
        "    if len(list(layer._flatten_modules())) == 1:\n",
        "        if layer.name not in ['lora_A', 'lora_B', 'classifier']:\n",
        "            layer.trainable = False"
      ],
      "metadata": {
        "id": "wyIkLZ_AbkXu"
      },
      "execution_count": null,
      "outputs": []
    },
    {
      "cell_type": "code",
      "source": [
        "model.bert.encoder.layer[i].intermediate"
      ],
      "metadata": {
        "colab": {
          "base_uri": "https://localhost:8080/"
        },
        "id": "PBSxyshfy1AZ",
        "outputId": "186f4b5e-8a4b-461c-98a3-330eca7a0253"
      },
      "execution_count": null,
      "outputs": [
        {
          "output_type": "execute_result",
          "data": {
            "text/plain": [
              "<transformers.models.bert.modeling_tf_bert.TFBertIntermediate at 0x7ec9dc676410>"
            ]
          },
          "metadata": {},
          "execution_count": 441
        }
      ]
    },
    {
      "cell_type": "code",
      "source": [
        "model.bert.embeddings.LayerNorm.trainable = False\n",
        "model.bert.pooler.dense.trainable = False\n",
        "\n",
        "for i in range(len(model.bert.encoder.layer)):\n",
        "    layer = model.bert.encoder.layer[i]\n",
        "\n",
        "    layer.bert_output.LayerNorm.trainable = False\n",
        "    layer.bert_output.dense.trainable = False\n",
        "\n",
        "    layer.intermediate.dense.trainable = False\n",
        "\n",
        "    layer.attention.dense_output.dense.trainable = False\n",
        "    layer.attention.dense_output.LayerNorm.trainable = False\n",
        "\n",
        "    layer.attention.self_attention.query.original_layer.trainable = False\n",
        "    layer.attention.self_attention.key.original_layer.trainable = False\n",
        "    layer.attention.self_attention.value.original_layer.trainable = False"
      ],
      "metadata": {
        "id": "Tln9UvMbv1LI"
      },
      "execution_count": null,
      "outputs": []
    },
    {
      "cell_type": "code",
      "source": [
        "first_element = next(iter(tf_dataset_train))[0]\n",
        "_ = model(first_element)\n",
        "model.summary()"
      ],
      "metadata": {
        "colab": {
          "base_uri": "https://localhost:8080/"
        },
        "id": "ifWRq2UlXJst",
        "outputId": "0a659c86-6b44-4bb9-9f3d-d05ea1c63752"
      },
      "execution_count": null,
      "outputs": [
        {
          "output_type": "stream",
          "name": "stdout",
          "text": [
            "Model: \"tf_bert_for_sequence_classification_74\"\n",
            "_________________________________________________________________\n",
            " Layer (type)                Output Shape              Param #   \n",
            "=================================================================\n",
            " bert (TFBertMainLayer)      multiple                  108752640 \n",
            "                                                                 \n",
            " dropout_2849 (Dropout)      multiple                  0         \n",
            "                                                                 \n",
            " classifier (Dense)          multiple                  21532     \n",
            "                                                                 \n",
            "=================================================================\n",
            "Total params: 108774172 (414.94 MB)\n",
            "Trainable params: 23127580 (88.22 MB)\n",
            "Non-trainable params: 85646592 (326.72 MB)\n",
            "_________________________________________________________________\n"
          ]
        }
      ]
    },
    {
      "cell_type": "code",
      "source": [
        "(23127580 - 463900) / 12"
      ],
      "metadata": {
        "colab": {
          "base_uri": "https://localhost:8080/"
        },
        "id": "6m-6DK-rx0ge",
        "outputId": "3b5f7f9b-ea3e-4721-8f7b-703a2c8c775f"
      },
      "execution_count": null,
      "outputs": [
        {
          "output_type": "execute_result",
          "data": {
            "text/plain": [
              "3.1978760294755095"
            ]
          },
          "metadata": {},
          "execution_count": 456
        }
      ]
    },
    {
      "cell_type": "code",
      "source": [
        "108774172 - 108331804"
      ],
      "metadata": {
        "colab": {
          "base_uri": "https://localhost:8080/"
        },
        "id": "OSayvlMr0FJS",
        "outputId": "6b028b26-f475-499e-cd49-2483a5e86913"
      },
      "execution_count": null,
      "outputs": [
        {
          "output_type": "execute_result",
          "data": {
            "text/plain": [
              "442368"
            ]
          },
          "metadata": {},
          "execution_count": 459
        }
      ]
    },
    {
      "cell_type": "code",
      "source": [
        "# Parameteres for LoRA.\n",
        "rank = 8\n",
        "alpha = 16\n",
        "\n",
        "# Create the model.\n",
        "lora_model = LoraModel(model_name, num_labels, rank, alpha, model)\n",
        "\n",
        "# Build the model passing a sample through it.\n",
        "first_element = next(iter(tf_dataset_train))[0]\n",
        "_ = lora_model(first_element)"
      ],
      "metadata": {
        "id": "8uWhmhH40WoB"
      },
      "execution_count": null,
      "outputs": []
    },
    {
      "cell_type": "markdown",
      "source": [
        "Let's start considering that we want to implement LoRA layers in all the matrices if the self attention (#3) for all the heads of bert-base (#12).\n",
        "\n",
        "The total number of Query, Key and Value matrices' parameters is $21261312$,\n",
        "\n",
        "$21261312 / 12 = 1771776$ parameters for each head,\n",
        "\n",
        "$1771776 / 3 = 590592 = 768 \\times 768 + 768$ parameters for each matrix.\n",
        "\n",
        "\n",
        "The total number of new parameters add with LoRA are $(768 \\times rank + rank \\times 768) \\times 3 \\times 12 = 442368$.\n",
        "\n",
        "So, considering also the classifier's parameters, the total amount of trainable parameters is $442368 + 21532 = 463900$."
      ],
      "metadata": {
        "id": "QPc3gDa90WoB"
      }
    },
    {
      "cell_type": "code",
      "source": [
        "optimizer = tf.keras.optimizers.AdamW(learning_rate=5e-4)\n",
        "loss_function = tf.keras.losses.CategoricalCrossentropy()\n",
        "metrics = ['accuracy']\n",
        "\n",
        "lora_model.compile(optimizer=optimizer,\n",
        "              loss=loss_function,\n",
        "              metrics=metrics)\n",
        "\n",
        "num_epochs = 1\n",
        "\n",
        "lora_model_history = lora_model.fit(tf_dataset_train, validation_data=tf_dataset_validation, epochs=num_epochs, batch_size=batch_size)"
      ],
      "metadata": {
        "colab": {
          "base_uri": "https://localhost:8080/",
          "height": 356
        },
        "outputId": "b2e958d0-c12e-4b13-eb87-2a5c2dbb3bd2",
        "id": "lZQ2tRXD0WoB"
      },
      "execution_count": null,
      "outputs": [
        {
          "output_type": "stream",
          "name": "stdout",
          "text": [
            "  14/1135 [..............................] - ETA: 14:53 - loss: 2.8617 - accuracy: 0.3103"
          ]
        },
        {
          "output_type": "error",
          "ename": "KeyboardInterrupt",
          "evalue": "",
          "traceback": [
            "\u001b[0;31m---------------------------------------------------------------------------\u001b[0m",
            "\u001b[0;31mKeyboardInterrupt\u001b[0m                         Traceback (most recent call last)",
            "\u001b[0;32m<ipython-input-117-49d41bd651b9>\u001b[0m in \u001b[0;36m<cell line: 11>\u001b[0;34m()\u001b[0m\n\u001b[1;32m      9\u001b[0m \u001b[0mnum_epochs\u001b[0m \u001b[0;34m=\u001b[0m \u001b[0;36m1\u001b[0m\u001b[0;34m\u001b[0m\u001b[0;34m\u001b[0m\u001b[0m\n\u001b[1;32m     10\u001b[0m \u001b[0;34m\u001b[0m\u001b[0m\n\u001b[0;32m---> 11\u001b[0;31m \u001b[0mlora_model_history\u001b[0m \u001b[0;34m=\u001b[0m \u001b[0mlora_model\u001b[0m\u001b[0;34m.\u001b[0m\u001b[0mfit\u001b[0m\u001b[0;34m(\u001b[0m\u001b[0mtf_dataset_train\u001b[0m\u001b[0;34m,\u001b[0m \u001b[0mvalidation_data\u001b[0m\u001b[0;34m=\u001b[0m\u001b[0mtf_dataset_validation\u001b[0m\u001b[0;34m,\u001b[0m \u001b[0mepochs\u001b[0m\u001b[0;34m=\u001b[0m\u001b[0mnum_epochs\u001b[0m\u001b[0;34m,\u001b[0m \u001b[0mbatch_size\u001b[0m\u001b[0;34m=\u001b[0m\u001b[0mbatch_size\u001b[0m\u001b[0;34m)\u001b[0m\u001b[0;34m\u001b[0m\u001b[0;34m\u001b[0m\u001b[0m\n\u001b[0m",
            "\u001b[0;32m/usr/local/lib/python3.10/dist-packages/keras/src/utils/traceback_utils.py\u001b[0m in \u001b[0;36merror_handler\u001b[0;34m(*args, **kwargs)\u001b[0m\n\u001b[1;32m     63\u001b[0m         \u001b[0mfiltered_tb\u001b[0m \u001b[0;34m=\u001b[0m \u001b[0;32mNone\u001b[0m\u001b[0;34m\u001b[0m\u001b[0;34m\u001b[0m\u001b[0m\n\u001b[1;32m     64\u001b[0m         \u001b[0;32mtry\u001b[0m\u001b[0;34m:\u001b[0m\u001b[0;34m\u001b[0m\u001b[0;34m\u001b[0m\u001b[0m\n\u001b[0;32m---> 65\u001b[0;31m             \u001b[0;32mreturn\u001b[0m \u001b[0mfn\u001b[0m\u001b[0;34m(\u001b[0m\u001b[0;34m*\u001b[0m\u001b[0margs\u001b[0m\u001b[0;34m,\u001b[0m \u001b[0;34m**\u001b[0m\u001b[0mkwargs\u001b[0m\u001b[0;34m)\u001b[0m\u001b[0;34m\u001b[0m\u001b[0;34m\u001b[0m\u001b[0m\n\u001b[0m\u001b[1;32m     66\u001b[0m         \u001b[0;32mexcept\u001b[0m \u001b[0mException\u001b[0m \u001b[0;32mas\u001b[0m \u001b[0me\u001b[0m\u001b[0;34m:\u001b[0m\u001b[0;34m\u001b[0m\u001b[0;34m\u001b[0m\u001b[0m\n\u001b[1;32m     67\u001b[0m             \u001b[0mfiltered_tb\u001b[0m \u001b[0;34m=\u001b[0m \u001b[0m_process_traceback_frames\u001b[0m\u001b[0;34m(\u001b[0m\u001b[0me\u001b[0m\u001b[0;34m.\u001b[0m\u001b[0m__traceback__\u001b[0m\u001b[0;34m)\u001b[0m\u001b[0;34m\u001b[0m\u001b[0;34m\u001b[0m\u001b[0m\n",
            "\u001b[0;32m/usr/local/lib/python3.10/dist-packages/keras/src/engine/training.py\u001b[0m in \u001b[0;36mfit\u001b[0;34m(self, x, y, batch_size, epochs, verbose, callbacks, validation_split, validation_data, shuffle, class_weight, sample_weight, initial_epoch, steps_per_epoch, validation_steps, validation_batch_size, validation_freq, max_queue_size, workers, use_multiprocessing)\u001b[0m\n\u001b[1;32m   1805\u001b[0m                         ):\n\u001b[1;32m   1806\u001b[0m                             \u001b[0mcallbacks\u001b[0m\u001b[0;34m.\u001b[0m\u001b[0mon_train_batch_begin\u001b[0m\u001b[0;34m(\u001b[0m\u001b[0mstep\u001b[0m\u001b[0;34m)\u001b[0m\u001b[0;34m\u001b[0m\u001b[0;34m\u001b[0m\u001b[0m\n\u001b[0;32m-> 1807\u001b[0;31m                             \u001b[0mtmp_logs\u001b[0m \u001b[0;34m=\u001b[0m \u001b[0mself\u001b[0m\u001b[0;34m.\u001b[0m\u001b[0mtrain_function\u001b[0m\u001b[0;34m(\u001b[0m\u001b[0miterator\u001b[0m\u001b[0;34m)\u001b[0m\u001b[0;34m\u001b[0m\u001b[0;34m\u001b[0m\u001b[0m\n\u001b[0m\u001b[1;32m   1808\u001b[0m                             \u001b[0;32mif\u001b[0m \u001b[0mdata_handler\u001b[0m\u001b[0;34m.\u001b[0m\u001b[0mshould_sync\u001b[0m\u001b[0;34m:\u001b[0m\u001b[0;34m\u001b[0m\u001b[0;34m\u001b[0m\u001b[0m\n\u001b[1;32m   1809\u001b[0m                                 \u001b[0mcontext\u001b[0m\u001b[0;34m.\u001b[0m\u001b[0masync_wait\u001b[0m\u001b[0;34m(\u001b[0m\u001b[0;34m)\u001b[0m\u001b[0;34m\u001b[0m\u001b[0;34m\u001b[0m\u001b[0m\n",
            "\u001b[0;32m/usr/local/lib/python3.10/dist-packages/tensorflow/python/util/traceback_utils.py\u001b[0m in \u001b[0;36merror_handler\u001b[0;34m(*args, **kwargs)\u001b[0m\n\u001b[1;32m    148\u001b[0m     \u001b[0mfiltered_tb\u001b[0m \u001b[0;34m=\u001b[0m \u001b[0;32mNone\u001b[0m\u001b[0;34m\u001b[0m\u001b[0;34m\u001b[0m\u001b[0m\n\u001b[1;32m    149\u001b[0m     \u001b[0;32mtry\u001b[0m\u001b[0;34m:\u001b[0m\u001b[0;34m\u001b[0m\u001b[0;34m\u001b[0m\u001b[0m\n\u001b[0;32m--> 150\u001b[0;31m       \u001b[0;32mreturn\u001b[0m \u001b[0mfn\u001b[0m\u001b[0;34m(\u001b[0m\u001b[0;34m*\u001b[0m\u001b[0margs\u001b[0m\u001b[0;34m,\u001b[0m \u001b[0;34m**\u001b[0m\u001b[0mkwargs\u001b[0m\u001b[0;34m)\u001b[0m\u001b[0;34m\u001b[0m\u001b[0;34m\u001b[0m\u001b[0m\n\u001b[0m\u001b[1;32m    151\u001b[0m     \u001b[0;32mexcept\u001b[0m \u001b[0mException\u001b[0m \u001b[0;32mas\u001b[0m \u001b[0me\u001b[0m\u001b[0;34m:\u001b[0m\u001b[0;34m\u001b[0m\u001b[0;34m\u001b[0m\u001b[0m\n\u001b[1;32m    152\u001b[0m       \u001b[0mfiltered_tb\u001b[0m \u001b[0;34m=\u001b[0m \u001b[0m_process_traceback_frames\u001b[0m\u001b[0;34m(\u001b[0m\u001b[0me\u001b[0m\u001b[0;34m.\u001b[0m\u001b[0m__traceback__\u001b[0m\u001b[0;34m)\u001b[0m\u001b[0;34m\u001b[0m\u001b[0;34m\u001b[0m\u001b[0m\n",
            "\u001b[0;32m/usr/local/lib/python3.10/dist-packages/tensorflow/python/eager/polymorphic_function/polymorphic_function.py\u001b[0m in \u001b[0;36m__call__\u001b[0;34m(self, *args, **kwds)\u001b[0m\n\u001b[1;32m    830\u001b[0m \u001b[0;34m\u001b[0m\u001b[0m\n\u001b[1;32m    831\u001b[0m       \u001b[0;32mwith\u001b[0m \u001b[0mOptionalXlaContext\u001b[0m\u001b[0;34m(\u001b[0m\u001b[0mself\u001b[0m\u001b[0;34m.\u001b[0m\u001b[0m_jit_compile\u001b[0m\u001b[0;34m)\u001b[0m\u001b[0;34m:\u001b[0m\u001b[0;34m\u001b[0m\u001b[0;34m\u001b[0m\u001b[0m\n\u001b[0;32m--> 832\u001b[0;31m         \u001b[0mresult\u001b[0m \u001b[0;34m=\u001b[0m \u001b[0mself\u001b[0m\u001b[0;34m.\u001b[0m\u001b[0m_call\u001b[0m\u001b[0;34m(\u001b[0m\u001b[0;34m*\u001b[0m\u001b[0margs\u001b[0m\u001b[0;34m,\u001b[0m \u001b[0;34m**\u001b[0m\u001b[0mkwds\u001b[0m\u001b[0;34m)\u001b[0m\u001b[0;34m\u001b[0m\u001b[0;34m\u001b[0m\u001b[0m\n\u001b[0m\u001b[1;32m    833\u001b[0m \u001b[0;34m\u001b[0m\u001b[0m\n\u001b[1;32m    834\u001b[0m       \u001b[0mnew_tracing_count\u001b[0m \u001b[0;34m=\u001b[0m \u001b[0mself\u001b[0m\u001b[0;34m.\u001b[0m\u001b[0mexperimental_get_tracing_count\u001b[0m\u001b[0;34m(\u001b[0m\u001b[0;34m)\u001b[0m\u001b[0;34m\u001b[0m\u001b[0;34m\u001b[0m\u001b[0m\n",
            "\u001b[0;32m/usr/local/lib/python3.10/dist-packages/tensorflow/python/eager/polymorphic_function/polymorphic_function.py\u001b[0m in \u001b[0;36m_call\u001b[0;34m(self, *args, **kwds)\u001b[0m\n\u001b[1;32m    866\u001b[0m       \u001b[0;31m# In this case we have created variables on the first call, so we run the\u001b[0m\u001b[0;34m\u001b[0m\u001b[0;34m\u001b[0m\u001b[0m\n\u001b[1;32m    867\u001b[0m       \u001b[0;31m# defunned version which is guaranteed to never create variables.\u001b[0m\u001b[0;34m\u001b[0m\u001b[0;34m\u001b[0m\u001b[0m\n\u001b[0;32m--> 868\u001b[0;31m       return tracing_compilation.call_function(\n\u001b[0m\u001b[1;32m    869\u001b[0m           \u001b[0margs\u001b[0m\u001b[0;34m,\u001b[0m \u001b[0mkwds\u001b[0m\u001b[0;34m,\u001b[0m \u001b[0mself\u001b[0m\u001b[0;34m.\u001b[0m\u001b[0m_no_variable_creation_config\u001b[0m\u001b[0;34m\u001b[0m\u001b[0;34m\u001b[0m\u001b[0m\n\u001b[1;32m    870\u001b[0m       )\n",
            "\u001b[0;32m/usr/local/lib/python3.10/dist-packages/tensorflow/python/eager/polymorphic_function/tracing_compilation.py\u001b[0m in \u001b[0;36mcall_function\u001b[0;34m(args, kwargs, tracing_options)\u001b[0m\n\u001b[1;32m    137\u001b[0m   \u001b[0mbound_args\u001b[0m \u001b[0;34m=\u001b[0m \u001b[0mfunction\u001b[0m\u001b[0;34m.\u001b[0m\u001b[0mfunction_type\u001b[0m\u001b[0;34m.\u001b[0m\u001b[0mbind\u001b[0m\u001b[0;34m(\u001b[0m\u001b[0;34m*\u001b[0m\u001b[0margs\u001b[0m\u001b[0;34m,\u001b[0m \u001b[0;34m**\u001b[0m\u001b[0mkwargs\u001b[0m\u001b[0;34m)\u001b[0m\u001b[0;34m\u001b[0m\u001b[0;34m\u001b[0m\u001b[0m\n\u001b[1;32m    138\u001b[0m   \u001b[0mflat_inputs\u001b[0m \u001b[0;34m=\u001b[0m \u001b[0mfunction\u001b[0m\u001b[0;34m.\u001b[0m\u001b[0mfunction_type\u001b[0m\u001b[0;34m.\u001b[0m\u001b[0munpack_inputs\u001b[0m\u001b[0;34m(\u001b[0m\u001b[0mbound_args\u001b[0m\u001b[0;34m)\u001b[0m\u001b[0;34m\u001b[0m\u001b[0;34m\u001b[0m\u001b[0m\n\u001b[0;32m--> 139\u001b[0;31m   return function._call_flat(  # pylint: disable=protected-access\n\u001b[0m\u001b[1;32m    140\u001b[0m       \u001b[0mflat_inputs\u001b[0m\u001b[0;34m,\u001b[0m \u001b[0mcaptured_inputs\u001b[0m\u001b[0;34m=\u001b[0m\u001b[0mfunction\u001b[0m\u001b[0;34m.\u001b[0m\u001b[0mcaptured_inputs\u001b[0m\u001b[0;34m\u001b[0m\u001b[0;34m\u001b[0m\u001b[0m\n\u001b[1;32m    141\u001b[0m   )\n",
            "\u001b[0;32m/usr/local/lib/python3.10/dist-packages/tensorflow/python/eager/polymorphic_function/concrete_function.py\u001b[0m in \u001b[0;36m_call_flat\u001b[0;34m(self, tensor_inputs, captured_inputs)\u001b[0m\n\u001b[1;32m   1321\u001b[0m         and executing_eagerly):\n\u001b[1;32m   1322\u001b[0m       \u001b[0;31m# No tape is watching; skip to running the function.\u001b[0m\u001b[0;34m\u001b[0m\u001b[0;34m\u001b[0m\u001b[0m\n\u001b[0;32m-> 1323\u001b[0;31m       \u001b[0;32mreturn\u001b[0m \u001b[0mself\u001b[0m\u001b[0;34m.\u001b[0m\u001b[0m_inference_function\u001b[0m\u001b[0;34m.\u001b[0m\u001b[0mcall_preflattened\u001b[0m\u001b[0;34m(\u001b[0m\u001b[0margs\u001b[0m\u001b[0;34m)\u001b[0m\u001b[0;34m\u001b[0m\u001b[0;34m\u001b[0m\u001b[0m\n\u001b[0m\u001b[1;32m   1324\u001b[0m     forward_backward = self._select_forward_and_backward_functions(\n\u001b[1;32m   1325\u001b[0m         \u001b[0margs\u001b[0m\u001b[0;34m,\u001b[0m\u001b[0;34m\u001b[0m\u001b[0;34m\u001b[0m\u001b[0m\n",
            "\u001b[0;32m/usr/local/lib/python3.10/dist-packages/tensorflow/python/eager/polymorphic_function/atomic_function.py\u001b[0m in \u001b[0;36mcall_preflattened\u001b[0;34m(self, args)\u001b[0m\n\u001b[1;32m    214\u001b[0m   \u001b[0;32mdef\u001b[0m \u001b[0mcall_preflattened\u001b[0m\u001b[0;34m(\u001b[0m\u001b[0mself\u001b[0m\u001b[0;34m,\u001b[0m \u001b[0margs\u001b[0m\u001b[0;34m:\u001b[0m \u001b[0mSequence\u001b[0m\u001b[0;34m[\u001b[0m\u001b[0mcore\u001b[0m\u001b[0;34m.\u001b[0m\u001b[0mTensor\u001b[0m\u001b[0;34m]\u001b[0m\u001b[0;34m)\u001b[0m \u001b[0;34m->\u001b[0m \u001b[0mAny\u001b[0m\u001b[0;34m:\u001b[0m\u001b[0;34m\u001b[0m\u001b[0;34m\u001b[0m\u001b[0m\n\u001b[1;32m    215\u001b[0m     \u001b[0;34m\"\"\"Calls with flattened tensor inputs and returns the structured output.\"\"\"\u001b[0m\u001b[0;34m\u001b[0m\u001b[0;34m\u001b[0m\u001b[0m\n\u001b[0;32m--> 216\u001b[0;31m     \u001b[0mflat_outputs\u001b[0m \u001b[0;34m=\u001b[0m \u001b[0mself\u001b[0m\u001b[0;34m.\u001b[0m\u001b[0mcall_flat\u001b[0m\u001b[0;34m(\u001b[0m\u001b[0;34m*\u001b[0m\u001b[0margs\u001b[0m\u001b[0;34m)\u001b[0m\u001b[0;34m\u001b[0m\u001b[0;34m\u001b[0m\u001b[0m\n\u001b[0m\u001b[1;32m    217\u001b[0m     \u001b[0;32mreturn\u001b[0m \u001b[0mself\u001b[0m\u001b[0;34m.\u001b[0m\u001b[0mfunction_type\u001b[0m\u001b[0;34m.\u001b[0m\u001b[0mpack_output\u001b[0m\u001b[0;34m(\u001b[0m\u001b[0mflat_outputs\u001b[0m\u001b[0;34m)\u001b[0m\u001b[0;34m\u001b[0m\u001b[0;34m\u001b[0m\u001b[0m\n\u001b[1;32m    218\u001b[0m \u001b[0;34m\u001b[0m\u001b[0m\n",
            "\u001b[0;32m/usr/local/lib/python3.10/dist-packages/tensorflow/python/eager/polymorphic_function/atomic_function.py\u001b[0m in \u001b[0;36mcall_flat\u001b[0;34m(self, *args)\u001b[0m\n\u001b[1;32m    249\u001b[0m         \u001b[0;32mwith\u001b[0m \u001b[0mrecord\u001b[0m\u001b[0;34m.\u001b[0m\u001b[0mstop_recording\u001b[0m\u001b[0;34m(\u001b[0m\u001b[0;34m)\u001b[0m\u001b[0;34m:\u001b[0m\u001b[0;34m\u001b[0m\u001b[0;34m\u001b[0m\u001b[0m\n\u001b[1;32m    250\u001b[0m           \u001b[0;32mif\u001b[0m \u001b[0mself\u001b[0m\u001b[0;34m.\u001b[0m\u001b[0m_bound_context\u001b[0m\u001b[0;34m.\u001b[0m\u001b[0mexecuting_eagerly\u001b[0m\u001b[0;34m(\u001b[0m\u001b[0;34m)\u001b[0m\u001b[0;34m:\u001b[0m\u001b[0;34m\u001b[0m\u001b[0;34m\u001b[0m\u001b[0m\n\u001b[0;32m--> 251\u001b[0;31m             outputs = self._bound_context.call_function(\n\u001b[0m\u001b[1;32m    252\u001b[0m                 \u001b[0mself\u001b[0m\u001b[0;34m.\u001b[0m\u001b[0mname\u001b[0m\u001b[0;34m,\u001b[0m\u001b[0;34m\u001b[0m\u001b[0;34m\u001b[0m\u001b[0m\n\u001b[1;32m    253\u001b[0m                 \u001b[0mlist\u001b[0m\u001b[0;34m(\u001b[0m\u001b[0margs\u001b[0m\u001b[0;34m)\u001b[0m\u001b[0;34m,\u001b[0m\u001b[0;34m\u001b[0m\u001b[0;34m\u001b[0m\u001b[0m\n",
            "\u001b[0;32m/usr/local/lib/python3.10/dist-packages/tensorflow/python/eager/context.py\u001b[0m in \u001b[0;36mcall_function\u001b[0;34m(self, name, tensor_inputs, num_outputs)\u001b[0m\n\u001b[1;32m   1484\u001b[0m     \u001b[0mcancellation_context\u001b[0m \u001b[0;34m=\u001b[0m \u001b[0mcancellation\u001b[0m\u001b[0;34m.\u001b[0m\u001b[0mcontext\u001b[0m\u001b[0;34m(\u001b[0m\u001b[0;34m)\u001b[0m\u001b[0;34m\u001b[0m\u001b[0;34m\u001b[0m\u001b[0m\n\u001b[1;32m   1485\u001b[0m     \u001b[0;32mif\u001b[0m \u001b[0mcancellation_context\u001b[0m \u001b[0;32mis\u001b[0m \u001b[0;32mNone\u001b[0m\u001b[0;34m:\u001b[0m\u001b[0;34m\u001b[0m\u001b[0;34m\u001b[0m\u001b[0m\n\u001b[0;32m-> 1486\u001b[0;31m       outputs = execute.execute(\n\u001b[0m\u001b[1;32m   1487\u001b[0m           \u001b[0mname\u001b[0m\u001b[0;34m.\u001b[0m\u001b[0mdecode\u001b[0m\u001b[0;34m(\u001b[0m\u001b[0;34m\"utf-8\"\u001b[0m\u001b[0;34m)\u001b[0m\u001b[0;34m,\u001b[0m\u001b[0;34m\u001b[0m\u001b[0;34m\u001b[0m\u001b[0m\n\u001b[1;32m   1488\u001b[0m           \u001b[0mnum_outputs\u001b[0m\u001b[0;34m=\u001b[0m\u001b[0mnum_outputs\u001b[0m\u001b[0;34m,\u001b[0m\u001b[0;34m\u001b[0m\u001b[0;34m\u001b[0m\u001b[0m\n",
            "\u001b[0;32m/usr/local/lib/python3.10/dist-packages/tensorflow/python/eager/execute.py\u001b[0m in \u001b[0;36mquick_execute\u001b[0;34m(op_name, num_outputs, inputs, attrs, ctx, name)\u001b[0m\n\u001b[1;32m     51\u001b[0m   \u001b[0;32mtry\u001b[0m\u001b[0;34m:\u001b[0m\u001b[0;34m\u001b[0m\u001b[0;34m\u001b[0m\u001b[0m\n\u001b[1;32m     52\u001b[0m     \u001b[0mctx\u001b[0m\u001b[0;34m.\u001b[0m\u001b[0mensure_initialized\u001b[0m\u001b[0;34m(\u001b[0m\u001b[0;34m)\u001b[0m\u001b[0;34m\u001b[0m\u001b[0;34m\u001b[0m\u001b[0m\n\u001b[0;32m---> 53\u001b[0;31m     tensors = pywrap_tfe.TFE_Py_Execute(ctx._handle, device_name, op_name,\n\u001b[0m\u001b[1;32m     54\u001b[0m                                         inputs, attrs, num_outputs)\n\u001b[1;32m     55\u001b[0m   \u001b[0;32mexcept\u001b[0m \u001b[0mcore\u001b[0m\u001b[0;34m.\u001b[0m\u001b[0m_NotOkStatusException\u001b[0m \u001b[0;32mas\u001b[0m \u001b[0me\u001b[0m\u001b[0;34m:\u001b[0m\u001b[0;34m\u001b[0m\u001b[0;34m\u001b[0m\u001b[0m\n",
            "\u001b[0;31mKeyboardInterrupt\u001b[0m: "
          ]
        }
      ]
    },
    {
      "cell_type": "code",
      "source": [
        "lora_model.model.classifier.get_weights()[0]"
      ],
      "metadata": {
        "outputId": "589d632f-63d8-42be-afc6-052f83bfcedb",
        "colab": {
          "base_uri": "https://localhost:8080/"
        },
        "id": "UfKltgcs0WoC"
      },
      "execution_count": null,
      "outputs": [
        {
          "output_type": "execute_result",
          "data": {
            "text/plain": [
              "array([[-0.00591019, -0.00484577,  0.01100573, ..., -0.00311598,\n",
              "        -0.02416917,  0.00409354],\n",
              "       [-0.02039267,  0.00942053,  0.0025434 , ...,  0.00891148,\n",
              "         0.0012288 ,  0.00054411],\n",
              "       [ 0.00893728, -0.02101945, -0.00922329, ...,  0.007544  ,\n",
              "         0.00898259,  0.03755317],\n",
              "       ...,\n",
              "       [-0.00194424,  0.00653094, -0.0041351 , ..., -0.01534467,\n",
              "        -0.02725969,  0.01637444],\n",
              "       [ 0.01192218,  0.00274544, -0.01700132, ..., -0.00941994,\n",
              "        -0.02123295,  0.01323891],\n",
              "       [ 0.00884701, -0.00757739,  0.00854274, ...,  0.00947676,\n",
              "        -0.01690845,  0.02813397]], dtype=float32)"
            ]
          },
          "metadata": {},
          "execution_count": 260
        }
      ]
    },
    {
      "cell_type": "code",
      "source": [
        "lora_model.model.bert.encoder.layer[11].attention.self_attention.key.A.get_weights()"
      ],
      "metadata": {
        "outputId": "1d410584-cfe8-4103-b30b-29454ac02bb7",
        "colab": {
          "base_uri": "https://localhost:8080/"
        },
        "id": "6QT7k28z0WoC"
      },
      "execution_count": null,
      "outputs": [
        {
          "output_type": "execute_result",
          "data": {
            "text/plain": [
              "[array([[ 0.0884343 , -0.07185138,  0.05943378, ..., -0.08395838,\n",
              "          0.02477893,  0.02181597],\n",
              "        [-0.00091249, -0.08824681,  0.06573258, ..., -0.06960507,\n",
              "         -0.08878529,  0.05152037],\n",
              "        [-0.06314621, -0.0055666 , -0.05208993, ..., -0.08678542,\n",
              "          0.01738612, -0.05438538],\n",
              "        ...,\n",
              "        [ 0.0630657 , -0.0043783 , -0.01258984, ..., -0.08278234,\n",
              "         -0.02204023, -0.06064276],\n",
              "        [ 0.04710453,  0.01308293,  0.0593427 , ..., -0.04989512,\n",
              "         -0.00659908,  0.07868818],\n",
              "        [ 0.0525265 ,  0.00650924,  0.01982998, ..., -0.00834987,\n",
              "          0.07899635,  0.01037245]], dtype=float32)]"
            ]
          },
          "metadata": {},
          "execution_count": 126
        }
      ]
    },
    {
      "cell_type": "code",
      "source": [
        "lora_model.model.bert.encoder.layer[0].attention.self_attention.key.original_layer.get_weights()[0]"
      ],
      "metadata": {
        "outputId": "7893cc1b-ccd9-4845-81c9-26a50e1155e0",
        "colab": {
          "base_uri": "https://localhost:8080/"
        },
        "id": "NdDeY78y0WoC"
      },
      "execution_count": null,
      "outputs": [
        {
          "output_type": "execute_result",
          "data": {
            "text/plain": [
              "array([[ 2.8657176e-02,  4.8005264e-03,  4.9075916e-02, ...,\n",
              "        -8.8107968e-03,  5.6885206e-03,  5.4868605e-02],\n",
              "       [-3.0682154e-02, -3.0306482e-03, -1.2872593e-02, ...,\n",
              "        -3.2314227e-03,  5.2937653e-02, -3.6515070e-03],\n",
              "       [-2.6920761e-03,  2.4164479e-02, -1.3647523e-02, ...,\n",
              "         1.1721017e-02,  9.4898082e-03,  1.5124909e-02],\n",
              "       ...,\n",
              "       [ 2.3737766e-02,  7.4703549e-03,  3.8690038e-02, ...,\n",
              "        -2.8807104e-02,  5.6113109e-02, -2.0291412e-02],\n",
              "       [-7.9208333e-03,  4.4420104e-02,  1.6604092e-02, ...,\n",
              "         4.6373899e-03,  2.6797490e-02, -2.8913473e-03],\n",
              "       [-1.0335554e-02,  2.5628829e-02,  7.9800091e-05, ...,\n",
              "         3.5981752e-02,  4.9961805e-02,  1.4802449e-02]], dtype=float32)"
            ]
          },
          "metadata": {},
          "execution_count": 194
        }
      ]
    },
    {
      "cell_type": "code",
      "source": [
        "lora_model_history.history"
      ],
      "metadata": {
        "id": "xgGmtJc8FZIJ"
      },
      "execution_count": null,
      "outputs": []
    },
    {
      "cell_type": "markdown",
      "metadata": {
        "id": "Eg7jBMSbFEHC"
      },
      "source": [
        "Sources:\n",
        "- [Multi class with Bert](https://github.com/theartificialguy/NLP-with-Deep-Learning/blob/master/BERT/Multi-Class%20classification%20TF-BERT/multi_class.ipynb)\n",
        "\n",
        "- [Dataset Preprocessing](https://huggingface.co/docs/datasets/v1.12.1/use_dataset.html)\n",
        "\n",
        "- [Bert model layers comprehension](https://github.com/huggingface/transformers/blob/ef609958586a24b7943ad6c31184ff5a84b6f8e2/src/transformers/models/bert/modeling_tf_bert.py#L369)\n",
        "\n",
        "- [LoRA Layer and injection](https://github.com/keras-team/keras-io/blob/master/examples/nlp/parameter_efficient_finetuning_of_gpt2_with_lora.py)\n",
        "\n",
        "- [LoRA parameters](https://arxiv.org/abs/2106.09685)"
      ]
    },
    {
      "cell_type": "code",
      "source": [],
      "metadata": {
        "id": "KPvO2_qr1v_v"
      },
      "execution_count": null,
      "outputs": []
    }
  ],
  "metadata": {
    "colab": {
      "provenance": [],
      "gpuType": "T4",
      "include_colab_link": true
    },
    "kernelspec": {
      "display_name": "Python 3",
      "name": "python3"
    },
    "language_info": {
      "codemirror_mode": {
        "name": "ipython",
        "version": 3
      },
      "file_extension": ".py",
      "mimetype": "text/x-python",
      "name": "python",
      "nbconvert_exporter": "python",
      "pygments_lexer": "ipython3",
      "version": "3.10.11"
    },
    "accelerator": "GPU"
  },
  "nbformat": 4,
  "nbformat_minor": 0
}