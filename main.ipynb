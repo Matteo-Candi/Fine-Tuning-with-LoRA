{
  "cells": [
    {
      "cell_type": "markdown",
      "metadata": {
        "id": "view-in-github",
        "colab_type": "text"
      },
      "source": [
        "<a href=\"https://colab.research.google.com/github/Matteo-Candi/Fine-Tuning-with-LoRA/blob/main/main.ipynb\" target=\"_parent\"><img src=\"https://colab.research.google.com/assets/colab-badge.svg\" alt=\"Open In Colab\"/></a>"
      ]
    },
    {
      "cell_type": "code",
      "execution_count": null,
      "metadata": {
        "id": "fDJc2ZzR7PV2"
      },
      "outputs": [],
      "source": [
        "%pip install datasets"
      ]
    },
    {
      "cell_type": "code",
      "source": [
        "from datasets import load_dataset, train_test_split\n",
        "import tensorflow as tf"
      ],
      "metadata": {
        "id": "Nlxrr9nB7ZkF",
        "outputId": "353611c5-04b4-4c38-8453-438aadb2be7c",
        "colab": {
          "base_uri": "https://localhost:8080/",
          "height": 345
        }
      },
      "execution_count": 46,
      "outputs": [
        {
          "output_type": "error",
          "ename": "ImportError",
          "evalue": "cannot import name 'train_test_split' from 'datasets' (/usr/local/lib/python3.10/dist-packages/datasets/__init__.py)",
          "traceback": [
            "\u001b[0;31m---------------------------------------------------------------------------\u001b[0m",
            "\u001b[0;31mImportError\u001b[0m                               Traceback (most recent call last)",
            "\u001b[0;32m<ipython-input-46-25ed8379da44>\u001b[0m in \u001b[0;36m<cell line: 1>\u001b[0;34m()\u001b[0m\n\u001b[0;32m----> 1\u001b[0;31m \u001b[0;32mfrom\u001b[0m \u001b[0mdatasets\u001b[0m \u001b[0;32mimport\u001b[0m \u001b[0mload_dataset\u001b[0m\u001b[0;34m,\u001b[0m \u001b[0mtrain_test_split\u001b[0m\u001b[0;34m\u001b[0m\u001b[0;34m\u001b[0m\u001b[0m\n\u001b[0m\u001b[1;32m      2\u001b[0m \u001b[0;32mimport\u001b[0m \u001b[0mtensorflow\u001b[0m \u001b[0;32mas\u001b[0m \u001b[0mtf\u001b[0m\u001b[0;34m\u001b[0m\u001b[0;34m\u001b[0m\u001b[0m\n",
            "\u001b[0;31mImportError\u001b[0m: cannot import name 'train_test_split' from 'datasets' (/usr/local/lib/python3.10/dist-packages/datasets/__init__.py)",
            "",
            "\u001b[0;31m---------------------------------------------------------------------------\u001b[0;32m\nNOTE: If your import is failing due to a missing package, you can\nmanually install dependencies using either !pip or !apt.\n\nTo view examples of installing some common dependencies, click the\n\"Open Examples\" button below.\n\u001b[0;31m---------------------------------------------------------------------------\u001b[0m\n"
          ],
          "errorDetails": {
            "actions": [
              {
                "action": "open_url",
                "actionText": "Open Examples",
                "url": "/notebooks/snippets/importing_libraries.ipynb"
              }
            ]
          }
        }
      ]
    },
    {
      "cell_type": "code",
      "source": [
        "# To ensure reproducible results (as much as possible)\n",
        "tf.keras.utils.set_random_seed(1234)"
      ],
      "metadata": {
        "id": "3uklyioe8gCB"
      },
      "execution_count": 4,
      "outputs": []
    },
    {
      "cell_type": "markdown",
      "source": [
        "## Dataset"
      ],
      "metadata": {
        "id": "5GeP3g_39qff"
      }
    },
    {
      "cell_type": "code",
      "source": [
        "dataset = load_dataset(\"go_emotions\", \"raw\")\n",
        "dataset = dataset.remove_columns(['id', 'author', 'subreddit', 'link_id', 'parent_id', 'created_utc', 'rater_id', 'example_very_unclear'])\n",
        "dataset['train'].train_test_split(.10)"
      ],
      "metadata": {
        "id": "rvXxEy-bKHtn",
        "outputId": "e6d0b587-927d-4509-aefd-5551ab71ea17",
        "colab": {
          "base_uri": "https://localhost:8080/"
        }
      },
      "execution_count": 98,
      "outputs": [
        {
          "output_type": "execute_result",
          "data": {
            "text/plain": [
              "DatasetDict({\n",
              "    train: Dataset({\n",
              "        features: ['text', 'admiration', 'amusement', 'anger', 'annoyance', 'approval', 'caring', 'confusion', 'curiosity', 'desire', 'disappointment', 'disapproval', 'disgust', 'embarrassment', 'excitement', 'fear', 'gratitude', 'grief', 'joy', 'love', 'nervousness', 'optimism', 'pride', 'realization', 'relief', 'remorse', 'sadness', 'surprise', 'neutral'],\n",
              "        num_rows: 190102\n",
              "    })\n",
              "    test: Dataset({\n",
              "        features: ['text', 'admiration', 'amusement', 'anger', 'annoyance', 'approval', 'caring', 'confusion', 'curiosity', 'desire', 'disappointment', 'disapproval', 'disgust', 'embarrassment', 'excitement', 'fear', 'gratitude', 'grief', 'joy', 'love', 'nervousness', 'optimism', 'pride', 'realization', 'relief', 'remorse', 'sadness', 'surprise', 'neutral'],\n",
              "        num_rows: 21123\n",
              "    })\n",
              "})"
            ]
          },
          "metadata": {},
          "execution_count": 98
        }
      ]
    },
    {
      "cell_type": "code",
      "source": [
        "# 28 classes\n",
        "dataset['train'].features"
      ],
      "metadata": {
        "id": "d3HLSatwKstT",
        "outputId": "09bf265f-3804-447a-ce23-7ef7997a8a67",
        "colab": {
          "base_uri": "https://localhost:8080/"
        }
      },
      "execution_count": 97,
      "outputs": [
        {
          "output_type": "execute_result",
          "data": {
            "text/plain": [
              "{'text': Value(dtype='string', id=None),\n",
              " 'admiration': Value(dtype='int32', id=None),\n",
              " 'amusement': Value(dtype='int32', id=None),\n",
              " 'anger': Value(dtype='int32', id=None),\n",
              " 'annoyance': Value(dtype='int32', id=None),\n",
              " 'approval': Value(dtype='int32', id=None),\n",
              " 'caring': Value(dtype='int32', id=None),\n",
              " 'confusion': Value(dtype='int32', id=None),\n",
              " 'curiosity': Value(dtype='int32', id=None),\n",
              " 'desire': Value(dtype='int32', id=None),\n",
              " 'disappointment': Value(dtype='int32', id=None),\n",
              " 'disapproval': Value(dtype='int32', id=None),\n",
              " 'disgust': Value(dtype='int32', id=None),\n",
              " 'embarrassment': Value(dtype='int32', id=None),\n",
              " 'excitement': Value(dtype='int32', id=None),\n",
              " 'fear': Value(dtype='int32', id=None),\n",
              " 'gratitude': Value(dtype='int32', id=None),\n",
              " 'grief': Value(dtype='int32', id=None),\n",
              " 'joy': Value(dtype='int32', id=None),\n",
              " 'love': Value(dtype='int32', id=None),\n",
              " 'nervousness': Value(dtype='int32', id=None),\n",
              " 'optimism': Value(dtype='int32', id=None),\n",
              " 'pride': Value(dtype='int32', id=None),\n",
              " 'realization': Value(dtype='int32', id=None),\n",
              " 'relief': Value(dtype='int32', id=None),\n",
              " 'remorse': Value(dtype='int32', id=None),\n",
              " 'sadness': Value(dtype='int32', id=None),\n",
              " 'surprise': Value(dtype='int32', id=None),\n",
              " 'neutral': Value(dtype='int32', id=None)}"
            ]
          },
          "metadata": {},
          "execution_count": 97
        }
      ]
    }
  ],
  "metadata": {
    "colab": {
      "provenance": [],
      "gpuType": "T4",
      "include_colab_link": true
    },
    "kernelspec": {
      "display_name": "Python 3",
      "name": "python3"
    },
    "language_info": {
      "codemirror_mode": {
        "name": "ipython",
        "version": 3
      },
      "file_extension": ".py",
      "mimetype": "text/x-python",
      "name": "python",
      "nbconvert_exporter": "python",
      "pygments_lexer": "ipython3",
      "version": "3.10.11"
    }
  },
  "nbformat": 4,
  "nbformat_minor": 0
}